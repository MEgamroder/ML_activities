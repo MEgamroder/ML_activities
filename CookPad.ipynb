{
 "cells": [
  {
   "cell_type": "code",
   "execution_count": 1,
   "metadata": {},
   "outputs": [],
   "source": [
    "import pandas as pd\n",
    "import matplotlib.pyplot as plt"
   ]
  },
  {
   "cell_type": "code",
   "execution_count": 2,
   "metadata": {},
   "outputs": [],
   "source": [
    "data = pd.read_csv('C:\\\\Users\\\\genri\\\\OneDrive\\\\Desktop\\\\Cookpad\\\\data_analyst_interview_data.csv')"
   ]
  },
  {
   "cell_type": "code",
   "execution_count": 15,
   "metadata": {},
   "outputs": [
    {
     "name": "stdout",
     "output_type": "stream",
     "text": [
      "<class 'pandas.core.frame.DataFrame'>\n",
      "RangeIndex: 573854 entries, 0 to 573853\n",
      "Data columns (total 10 columns):\n",
      "id               573854 non-null int64\n",
      "user_id          573854 non-null int64\n",
      "recipe_id        573854 non-null int64\n",
      "event_time       573854 non-null object\n",
      "event            573854 non-null object\n",
      "view_duration    221593 non-null float64\n",
      "country          573854 non-null object\n",
      "platform         573717 non-null object\n",
      "ref              38545 non-null object\n",
      "via              9703 non-null object\n",
      "dtypes: float64(1), int64(3), object(6)\n",
      "memory usage: 43.8+ MB\n"
     ]
    }
   ],
   "source": [
    "data.info()"
   ]
  },
  {
   "cell_type": "code",
   "execution_count": 320,
   "metadata": {},
   "outputs": [
    {
     "data": {
      "text/html": [
       "<div>\n",
       "<style scoped>\n",
       "    .dataframe tbody tr th:only-of-type {\n",
       "        vertical-align: middle;\n",
       "    }\n",
       "\n",
       "    .dataframe tbody tr th {\n",
       "        vertical-align: top;\n",
       "    }\n",
       "\n",
       "    .dataframe thead th {\n",
       "        text-align: right;\n",
       "    }\n",
       "</style>\n",
       "<table border=\"1\" class=\"dataframe\">\n",
       "  <thead>\n",
       "    <tr style=\"text-align: right;\">\n",
       "      <th></th>\n",
       "      <th>event</th>\n",
       "      <th>view_duration</th>\n",
       "      <th>null_rate</th>\n",
       "    </tr>\n",
       "  </thead>\n",
       "  <tbody>\n",
       "    <tr>\n",
       "      <th>recipe.visit</th>\n",
       "      <td>325764</td>\n",
       "      <td>325764</td>\n",
       "      <td>100.000000</td>\n",
       "    </tr>\n",
       "    <tr>\n",
       "      <th>view_duration</th>\n",
       "      <td>228564</td>\n",
       "      <td>6971</td>\n",
       "      <td>3.049912</td>\n",
       "    </tr>\n",
       "    <tr>\n",
       "      <th>recipe.bookmark</th>\n",
       "      <td>10291</td>\n",
       "      <td>10291</td>\n",
       "      <td>100.000000</td>\n",
       "    </tr>\n",
       "    <tr>\n",
       "      <th>recipe.add_to_cookplan</th>\n",
       "      <td>2278</td>\n",
       "      <td>2278</td>\n",
       "      <td>100.000000</td>\n",
       "    </tr>\n",
       "    <tr>\n",
       "      <th>recipe.comments.visit</th>\n",
       "      <td>2158</td>\n",
       "      <td>2158</td>\n",
       "      <td>100.000000</td>\n",
       "    </tr>\n",
       "    <tr>\n",
       "      <th>recipe.react</th>\n",
       "      <td>1584</td>\n",
       "      <td>1584</td>\n",
       "      <td>100.000000</td>\n",
       "    </tr>\n",
       "    <tr>\n",
       "      <th>recipe.cooked_it</th>\n",
       "      <td>1066</td>\n",
       "      <td>1066</td>\n",
       "      <td>100.000000</td>\n",
       "    </tr>\n",
       "    <tr>\n",
       "      <th>recipe.share</th>\n",
       "      <td>673</td>\n",
       "      <td>673</td>\n",
       "      <td>100.000000</td>\n",
       "    </tr>\n",
       "    <tr>\n",
       "      <th>cookplan.comments.create</th>\n",
       "      <td>484</td>\n",
       "      <td>484</td>\n",
       "      <td>100.000000</td>\n",
       "    </tr>\n",
       "    <tr>\n",
       "      <th>user.follow</th>\n",
       "      <td>413</td>\n",
       "      <td>413</td>\n",
       "      <td>100.000000</td>\n",
       "    </tr>\n",
       "    <tr>\n",
       "      <th>recipe.publish</th>\n",
       "      <td>306</td>\n",
       "      <td>306</td>\n",
       "      <td>100.000000</td>\n",
       "    </tr>\n",
       "    <tr>\n",
       "      <th>cooksnap.create</th>\n",
       "      <td>137</td>\n",
       "      <td>137</td>\n",
       "      <td>100.000000</td>\n",
       "    </tr>\n",
       "    <tr>\n",
       "      <th>recipe.edit.open</th>\n",
       "      <td>136</td>\n",
       "      <td>136</td>\n",
       "      <td>100.000000</td>\n",
       "    </tr>\n",
       "  </tbody>\n",
       "</table>\n",
       "</div>"
      ],
      "text/plain": [
       "                           event  view_duration   null_rate\n",
       "recipe.visit              325764         325764  100.000000\n",
       "view_duration             228564           6971    3.049912\n",
       "recipe.bookmark            10291          10291  100.000000\n",
       "recipe.add_to_cookplan      2278           2278  100.000000\n",
       "recipe.comments.visit       2158           2158  100.000000\n",
       "recipe.react                1584           1584  100.000000\n",
       "recipe.cooked_it            1066           1066  100.000000\n",
       "recipe.share                 673            673  100.000000\n",
       "cookplan.comments.create     484            484  100.000000\n",
       "user.follow                  413            413  100.000000\n",
       "recipe.publish               306            306  100.000000\n",
       "cooksnap.create              137            137  100.000000\n",
       "recipe.edit.open             136            136  100.000000"
      ]
     },
     "execution_count": 320,
     "metadata": {},
     "output_type": "execute_result"
    }
   ],
   "source": [
    "# let's check null 'view_duration' values for all events \n",
    "a = pd.DataFrame(data['event'].value_counts())\n",
    "b = pd.DataFrame(data.view_duration.isnull().groupby([data['event']]).sum().astype(int))\n",
    "funnel_final = pd.merge(left = a,right = b ,how = 'inner',left_index = True , right_index = True)\n",
    "funnel_final['null_rate'] = 100 * funnel_final['view_duration'] / funnel_final['event']\n",
    "funnel_final"
   ]
  },
  {
   "cell_type": "code",
   "execution_count": 214,
   "metadata": {},
   "outputs": [],
   "source": [
    "#Get new feature - hour\n",
    "data['event_time'] = pd.to_datetime(data['event_time'])\n",
    "data['event_date'] = data['event_time'].dt.hour"
   ]
  },
  {
   "cell_type": "code",
   "execution_count": 221,
   "metadata": {},
   "outputs": [],
   "source": [
    "#Function to convert hour to part of the day\n",
    "def get_date_part(x):\n",
    "    if x>=3 and x<=9:\n",
    "        part = 'morning'\n",
    "    elif x>=10 and x<=18:\n",
    "        part = 'afternoon'\n",
    "    elif x>18 and x<23:\n",
    "        part = 'evening'\n",
    "    else:\n",
    "        part = 'night'\n",
    "    return part"
   ]
  },
  {
   "cell_type": "code",
   "execution_count": 323,
   "metadata": {},
   "outputs": [
    {
     "data": {
      "text/html": [
       "<div>\n",
       "<style scoped>\n",
       "    .dataframe tbody tr th:only-of-type {\n",
       "        vertical-align: middle;\n",
       "    }\n",
       "\n",
       "    .dataframe tbody tr th {\n",
       "        vertical-align: top;\n",
       "    }\n",
       "\n",
       "    .dataframe thead th {\n",
       "        text-align: right;\n",
       "    }\n",
       "</style>\n",
       "<table border=\"1\" class=\"dataframe\">\n",
       "  <thead>\n",
       "    <tr style=\"text-align: right;\">\n",
       "      <th></th>\n",
       "      <th>platform_x</th>\n",
       "      <th>platform_y</th>\n",
       "      <th>null_rate</th>\n",
       "    </tr>\n",
       "  </thead>\n",
       "  <tbody>\n",
       "    <tr>\n",
       "      <th>app-android</th>\n",
       "      <td>378690</td>\n",
       "      <td>5197.0</td>\n",
       "      <td>1.372363</td>\n",
       "    </tr>\n",
       "    <tr>\n",
       "      <th>web-mobile</th>\n",
       "      <td>131688</td>\n",
       "      <td>1754.0</td>\n",
       "      <td>1.331936</td>\n",
       "    </tr>\n",
       "    <tr>\n",
       "      <th>app-ios</th>\n",
       "      <td>57281</td>\n",
       "      <td>NaN</td>\n",
       "      <td>NaN</td>\n",
       "    </tr>\n",
       "    <tr>\n",
       "      <th>web-desktop</th>\n",
       "      <td>5659</td>\n",
       "      <td>11.0</td>\n",
       "      <td>0.194381</td>\n",
       "    </tr>\n",
       "    <tr>\n",
       "      <th>web-tablet</th>\n",
       "      <td>399</td>\n",
       "      <td>9.0</td>\n",
       "      <td>2.255639</td>\n",
       "    </tr>\n",
       "  </tbody>\n",
       "</table>\n",
       "</div>"
      ],
      "text/plain": [
       "             platform_x  platform_y  null_rate\n",
       "app-android      378690      5197.0   1.372363\n",
       "web-mobile       131688      1754.0   1.331936\n",
       "app-ios           57281         NaN        NaN\n",
       "web-desktop        5659        11.0   0.194381\n",
       "web-tablet          399         9.0   2.255639"
      ]
     },
     "execution_count": 323,
     "metadata": {},
     "output_type": "execute_result"
    }
   ],
   "source": [
    "# Check null view duration across the platforms\n",
    "# Interesting , there are no such values for IOS . Should be investigated it later\n",
    "a = pd.DataFrame(data['platform'].value_counts())\n",
    "b = pd.DataFrame(dt['platform'].value_counts())\n",
    "funnel_final = pd.merge(left = a,right = b ,how = 'left',left_index = True , right_index = True)\n",
    "funnel_final['null_rate'] = 100 * funnel_final['platform_y'] / funnel_final['platform_x']\n",
    "funnel_final"
   ]
  },
  {
   "cell_type": "code",
   "execution_count": 324,
   "metadata": {},
   "outputs": [
    {
     "data": {
      "text/plain": [
       "app-android    5197\n",
       "web-mobile     1754\n",
       "web-desktop      11\n",
       "web-tablet        9\n",
       "Name: platform, dtype: int64"
      ]
     },
     "execution_count": 324,
     "metadata": {},
     "output_type": "execute_result"
    }
   ],
   "source": [
    "dt['platform'].value_counts()"
   ]
  },
  {
   "cell_type": "code",
   "execution_count": 5,
   "metadata": {},
   "outputs": [],
   "source": [
    "#Let's just get rid of event where view_duration is null\n",
    "dt = data[(data['event'] == 'view_duration') & (data['view_duration'].isnull() == True )]\n",
    "data_new = data.drop(dt.index)"
   ]
  },
  {
   "cell_type": "code",
   "execution_count": null,
   "metadata": {},
   "outputs": [],
   "source": [
    "a = pd.DataFrame(data['ref'].value_counts())\n",
    "b = pd.DataFrame(dt['platform'].value_counts())\n",
    "funnel_final = pd.merge(left = a,right = b ,how = 'left',left_index = True , right_index = True)\n",
    "funnel_final['null_rate'] = 100 * funnel_final['platform_y'] / funnel_final['platform_x']"
   ]
  },
  {
   "cell_type": "code",
   "execution_count": 84,
   "metadata": {
    "collapsed": true
   },
   "outputs": [
    {
     "data": {
      "text/plain": [
       "recipe_swipe                          3582\n",
       "add_to_cookplan_button                1161\n",
       "add_to_cookplan_steps_button           913\n",
       "cooked_it_button                       795\n",
       "question_card                          662\n",
       "unknown                                379\n",
       "recipe                                 371\n",
       "comment_body                           225\n",
       "cooked                                 223\n",
       "author                                 219\n",
       "post_button                            212\n",
       "cooklog                                192\n",
       "share_your_photo_button                165\n",
       "open_log                               139\n",
       "cookplan_tray_popup                     86\n",
       "dialog                                  72\n",
       "view_button                             62\n",
       "profile                                 57\n",
       "add_to_cookplan_toolbar                 42\n",
       "recipe_card_swipe                       35\n",
       "comment_to_author                       26\n",
       "ask_question_button                     23\n",
       "recipe_screenshot                       16\n",
       "add_to_cookplan_cooking_log_button      14\n",
       "see_link                                 9\n",
       "view                                     6\n",
       "add_to_cookplan_button_bottom            6\n",
       "push_notification                        5\n",
       "recipe_card                              2\n",
       "photo_comment_preview                    1\n",
       "suggestions_feed                         1\n",
       "add_photo                                1\n",
       "following_feed                           1\n",
       "Name: via, dtype: int64"
      ]
     },
     "execution_count": 84,
     "metadata": {},
     "output_type": "execute_result"
    }
   ],
   "source": [
    "data['via'].value_counts()"
   ]
  },
  {
   "cell_type": "code",
   "execution_count": 50,
   "metadata": {
    "collapsed": true
   },
   "outputs": [
    {
     "data": {
      "text/plain": [
       "Feed                                 18572\n",
       "RecipeView                            4387\n",
       "uncooked_recipes                      3024\n",
       "feed                                  2265\n",
       "profile                               2235\n",
       "recipe_page                           1819\n",
       "my_recipe_cookplan                     967\n",
       "UserProfile                            897\n",
       "unknown                                840\n",
       "Search                                 776\n",
       "cooked_recipes                         669\n",
       "photo_comment_preview                  632\n",
       "inbox                                  425\n",
       "recipe_ideas                           336\n",
       "cooking_logs                           225\n",
       "recipe_editor                          212\n",
       "my_recipe_uncooked                      60\n",
       "feed_new_single                         57\n",
       "my_recipe_cooked                        43\n",
       "cookplan_tray                           35\n",
       "feed_from_your_network_single           23\n",
       "achievement                             10\n",
       "search_result                           10\n",
       "suggestions_feed                         8\n",
       "comments_preview                         6\n",
       "following_feed                           4\n",
       "recipe_tray_view                         2\n",
       "comment_reply                            2\n",
       "most_popular                             2\n",
       "search_result_integrated_uncooked        2\n",
       "Name: ref, dtype: int64"
      ]
     },
     "execution_count": 50,
     "metadata": {},
     "output_type": "execute_result"
    }
   ],
   "source": [
    "data['ref'].value_counts()"
   ]
  },
  {
   "cell_type": "code",
   "execution_count": 51,
   "metadata": {
    "scrolled": true
   },
   "outputs": [
    {
     "data": {
      "text/plain": [
       "recipe_swipe                          3582\n",
       "add_to_cookplan_button                1161\n",
       "add_to_cookplan_steps_button           913\n",
       "cooked_it_button                       795\n",
       "question_card                          662\n",
       "unknown                                379\n",
       "recipe                                 371\n",
       "comment_body                           225\n",
       "cooked                                 223\n",
       "author                                 219\n",
       "post_button                            212\n",
       "cooklog                                192\n",
       "share_your_photo_button                165\n",
       "open_log                               139\n",
       "cookplan_tray_popup                     86\n",
       "dialog                                  72\n",
       "view_button                             62\n",
       "profile                                 57\n",
       "add_to_cookplan_toolbar                 42\n",
       "recipe_card_swipe                       35\n",
       "comment_to_author                       26\n",
       "ask_question_button                     23\n",
       "recipe_screenshot                       16\n",
       "add_to_cookplan_cooking_log_button      14\n",
       "see_link                                 9\n",
       "view                                     6\n",
       "add_to_cookplan_button_bottom            6\n",
       "push_notification                        5\n",
       "recipe_card                              2\n",
       "photo_comment_preview                    1\n",
       "suggestions_feed                         1\n",
       "add_photo                                1\n",
       "following_feed                           1\n",
       "Name: via, dtype: int64"
      ]
     },
     "execution_count": 51,
     "metadata": {},
     "output_type": "execute_result"
    }
   ],
   "source": [
    "data['via'].value_counts()"
   ]
  },
  {
   "cell_type": "code",
   "execution_count": 23,
   "metadata": {},
   "outputs": [],
   "source": [
    "#Create cohort data where cohort - min date for every customer\n",
    "group = data_new.groupby(['user_id'])\n",
    "cohort_data = group['event_date'].min()\n",
    "cohort_data = cohort_data.reset_index()"
   ]
  },
  {
   "cell_type": "code",
   "execution_count": 40,
   "metadata": {},
   "outputs": [],
   "source": [
    "#Calculate data to gauge retention \n",
    "a = data_new[['event_date','user_id']].drop_duplicates()\n",
    "b = cohort_data\n",
    "funnel_final = pd.merge(left = a,right = b ,how = 'left',left_on = 'user_id' , right_on = 'user_id')\n",
    "funnel_final['event_date_y'] = funnel_final['event_date_y'].astype('datetime64')\n",
    "funnel_final['event_date_x'] = funnel_final['event_date_x'].astype('datetime64')\n",
    "funnel_final['diff'] = (funnel_final['event_date_x'] - funnel_final['event_date_y'])/np.timedelta64(1,'D')"
   ]
  },
  {
   "cell_type": "code",
   "execution_count": 101,
   "metadata": {},
   "outputs": [],
   "source": [
    "#Retention Matrix\n",
    "column_names = ['date','total_users','users_D1','users_D2','users_D3','users_D4','users_D5','users_D6','users_D7']\n",
    "retention_matrix = pd.DataFrame(columns = column_names)\n",
    "retention_matrix.date = [1]*31"
   ]
  },
  {
   "cell_type": "code",
   "execution_count": 116,
   "metadata": {},
   "outputs": [],
   "source": [
    "#Calculate retention\n",
    "j = 0\n",
    "for date in pd.date_range(start=\"2020-07-01\",end=\"2020-07-31\"):\n",
    "    users = funnel_final[funnel_final['event_date_y']==date]['user_id'].drop_duplicates()\n",
    "    retention_matrix.iloc[j,0] = date\n",
    "    retention_matrix.iloc[j,1] = len(users)\n",
    "    for i in range(1,8):\n",
    "        users_retent = funnel_final[(funnel_final['event_date_x'] == date + timedelta(days=i)) & (funnel_final['user_id'].isin(users))].drop_duplicates()\n",
    "        retention_matrix.iloc[ j , i + 1 ] = len(users_retent)\n",
    "    j += 1"
   ]
  },
  {
   "cell_type": "code",
   "execution_count": 119,
   "metadata": {},
   "outputs": [],
   "source": [
    "#Save matrix\n",
    "retention_matrix.to_csv('retention_cookPad.csv',index = False)"
   ]
  },
  {
   "cell_type": "code",
   "execution_count": 122,
   "metadata": {},
   "outputs": [],
   "source": [
    "##Create cohort data where cohort - min date for every customer and for every via\n",
    "group = data_new.groupby(['user_id','via'])\n",
    "cohort_data = group['event_date'].min()\n",
    "cohort_data = cohort_data.reset_index()\n",
    "cohort_data['event_date'] =  cohort_data['event_date'].astype('datetime64')"
   ]
  },
  {
   "cell_type": "code",
   "execution_count": null,
   "metadata": {},
   "outputs": [],
   "source": [
    "#Create VIA Matrix\n",
    "column_names = ['screen','total_users','users_D1','users_D2','users_D3','users_D4','users_D5','users_D6','users_D7']\n",
    "retention_matrix_screen = pd.DataFrame(columns = column_names)\n",
    "retention_matrix_screen.screen = [1]*30"
   ]
  },
  {
   "cell_type": "code",
   "execution_count": null,
   "metadata": {},
   "outputs": [],
   "source": [
    "#Create data to gauge via retention\n",
    "a = data_new[['event_date','user_id','via']].drop_duplicates()\n",
    "b = cohort_data\n",
    "funnel_final = pd.merge(left = a,right = b ,how = 'left',left_on = 'user_id' , right_on = 'user_id')\n",
    "cohort_data['event_date'] =  cohort_data['event_date'].astype('datetime64')\n",
    "funnel_final['diff'] = (funnel_final['event_date_x'] - funnel_final['event_date_y'])/np.timedelta64(1,'D')"
   ]
  },
  {
   "cell_type": "code",
   "execution_count": null,
   "metadata": {},
   "outputs": [],
   "source": [
    "#Retention VIA Matrix\n",
    "j = 0\n",
    "for via in cohort_data['via'].drop_duplicates():    \n",
    "    users = cohort_data[['user_id','event_date']][cohort_data['via']==via].drop_duplicates()\n",
    "    final = pd.merge(left = funnel_final,right = users ,how = 'left',left_on = 'user_id' , right_on = 'user_id')\n",
    "    final.dropna(subset=['event_date'] , inplace = True)\n",
    "    total = len(final['user_id'].drop_duplicates())\n",
    "    retention_matrix_buttons.iloc[j,0] = via\n",
    "    retention_matrix_buttons.iloc[j,1] = total\n",
    "    for i in range(1,8):\n",
    "        retention_matrix_buttons.iloc[ j , i + 1 ] = len(final['user_id'][final['event_date_x'] == final['event_date'] + timedelta(days=i)].drop_duplicates())\n",
    "    j += 1"
   ]
  },
  {
   "cell_type": "code",
   "execution_count": null,
   "metadata": {},
   "outputs": [],
   "source": [
    "#Save matrix Via\n",
    "retention_matrix_buttons.to_csv('retention_buttons_cookPad.csv',index = False)"
   ]
  },
  {
   "cell_type": "code",
   "execution_count": 181,
   "metadata": {},
   "outputs": [],
   "source": [
    "#create matrix screen\n",
    "column_names = ['screen','total_users','users_D1','users_D2','users_D3','users_D4','users_D5','users_D6','users_D7']\n",
    "retention_matrix_screen = pd.DataFrame(columns = column_names)\n",
    "retention_matrix_screen.screen = [1]*30"
   ]
  },
  {
   "cell_type": "code",
   "execution_count": 186,
   "metadata": {},
   "outputs": [],
   "source": [
    "##Create cohort data where cohort - min date for every customer and for every screen\n",
    "group = data_new.groupby(['user_id','ref'])\n",
    "cohort_data = group['event_date'].min()\n",
    "cohort_data = cohort_data.reset_index()\n",
    "cohort_data['event_date'] =  cohort_data['event_date'].astype('datetime64')"
   ]
  },
  {
   "cell_type": "code",
   "execution_count": 196,
   "metadata": {},
   "outputs": [],
   "source": [
    "#Retention screen Matrix\n",
    "j = 0\n",
    "for ref in cohort_data['ref'].drop_duplicates():    \n",
    "    users = cohort_data[['user_id','event_date']][cohort_data['ref']==ref].drop_duplicates()\n",
    "    final = pd.merge(left = funnel_final,right = users ,how = 'left',left_on = 'user_id' , right_on = 'user_id')\n",
    "    final.dropna(subset=['event_date'] , inplace = True)\n",
    "    total = len(final['user_id'].drop_duplicates())\n",
    "    retention_matrix_screen.iloc[j,0] = ref\n",
    "    retention_matrix_screen.iloc[j,1] = total\n",
    "    for i in range(1,8):\n",
    "        retention_matrix_screen.iloc[ j , i + 1 ] = len(final['user_id'][final['event_date_x'] == final['event_date'] + timedelta(days=i)].drop_duplicates())\n",
    "    j += 1"
   ]
  },
  {
   "cell_type": "code",
   "execution_count": 199,
   "metadata": {},
   "outputs": [],
   "source": [
    "#Save it\n",
    "retention_matrix_screen.to_csv('retention_screens_cookPad.csv',index = False)"
   ]
  },
  {
   "cell_type": "code",
   "execution_count": 245,
   "metadata": {},
   "outputs": [],
   "source": [
    "#Create data to gauge AWR retention\n",
    "group = data_new.groupby(['user_id'])\n",
    "cohort_data = group['event_date'].min()\n",
    "cohort_data = cohort_data.reset_index()"
   ]
  },
  {
   "cell_type": "code",
   "execution_count": 325,
   "metadata": {},
   "outputs": [],
   "source": [
    "#create matrix AWR\n",
    "column_names = ['date','user_enganged','users_churned','retention_days']\n",
    "retention_mat_average_recipes = pd.DataFrame(columns = column_names)\n",
    "retention_mat_average_recipes.date = [1]*31*7"
   ]
  },
  {
   "cell_type": "code",
   "execution_count": 315,
   "metadata": {},
   "outputs": [],
   "source": [
    "#Calculate average viewed recipes for different retention periods\n",
    "j = 0\n",
    "cohort_data['event_date'] = cohort_data['event_date'].astype('datetime64')\n",
    "data_new['event_date'] = data_new['event_date'].astype('datetime64')\n",
    "for retent_days in range(1,8):\n",
    "    for date in pd.date_range(start=\"2020-07-01\",end=\"2020-07-31\"):\n",
    "        \n",
    "        k = cohort_data[cohort_data['event_date']==date]\n",
    "        k_eng = k[k['user_id'].isin(data_new[data_new['event_date']==date + timedelta(days=retent_days)]['user_id'])]\n",
    "        \n",
    "        av_eng = data_new[(data_new['user_id'].isin(k_eng['user_id'])) & \n",
    "         (data_new['event_date']>=pd.Timestamp(date)) & \n",
    "         (data_new['event_date']<=pd.Timestamp(date + timedelta(days=retent_days)))].groupby('user_id').recipe_id.nunique().mean()\n",
    "        av_ret = data_new[(~data_new['user_id'].isin(k_eng['user_id'])) & \n",
    "         (data_new['event_date']>=pd.Timestamp(date)) & \n",
    "         (data_new['event_date']<=pd.Timestamp(date + timedelta(days=retent_days)))].groupby('user_id').recipe_id.nunique().mean()\n",
    "        \n",
    "        retention_mat_average_recipes.iloc[j,0] = date\n",
    "        retention_mat_average_recipes.iloc[j,1] = av_eng\n",
    "        retention_mat_average_recipes.iloc[j,2] = av_ret\n",
    "        retention_mat_average_recipes.iloc[j,3] = retent_days\n",
    "        j +=1"
   ]
  },
  {
   "cell_type": "code",
   "execution_count": 317,
   "metadata": {},
   "outputs": [],
   "source": [
    "#save AWR\n",
    "retention_mat_average_recipes.to_csv('average_recipes.csv',index = False)"
   ]
  }
 ],
 "metadata": {
  "kernelspec": {
   "display_name": "Python 3",
   "language": "python",
   "name": "python3"
  },
  "language_info": {
   "codemirror_mode": {
    "name": "ipython",
    "version": 3
   },
   "file_extension": ".py",
   "mimetype": "text/x-python",
   "name": "python",
   "nbconvert_exporter": "python",
   "pygments_lexer": "ipython3",
   "version": "3.8.2"
  }
 },
 "nbformat": 4,
 "nbformat_minor": 4
}
